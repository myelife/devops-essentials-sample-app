{
  "nbformat": 4,
  "nbformat_minor": 0,
  "metadata": {
    "colab": {
      "name": "test_project.ipynb",
      "provenance": [],
      "collapsed_sections": [],
      "authorship_tag": "ABX9TyOwR/8298gjSvEkB1ETTDN3",
      "include_colab_link": true
    },
    "kernelspec": {
      "name": "python3",
      "display_name": "Python 3"
    },
    "widgets": {
      "application/vnd.jupyter.widget-state+json": {
        "d35c2d34ff5f4961b35bc61788125ec3": {
          "model_module": "@jupyter-widgets/controls",
          "model_name": "HBoxModel",
          "state": {
            "_view_name": "HBoxView",
            "_dom_classes": [],
            "_model_name": "HBoxModel",
            "_view_module": "@jupyter-widgets/controls",
            "_model_module_version": "1.5.0",
            "_view_count": null,
            "_view_module_version": "1.5.0",
            "box_style": "",
            "layout": "IPY_MODEL_fca02e1ddff2482794b73432ed0ede7b",
            "_model_module": "@jupyter-widgets/controls",
            "children": [
              "IPY_MODEL_2bc0f752a5ea4805a365f07e17fe2e4e",
              "IPY_MODEL_986d125b28834e60a1f06784f4c5c710"
            ]
          }
        },
        "fca02e1ddff2482794b73432ed0ede7b": {
          "model_module": "@jupyter-widgets/base",
          "model_name": "LayoutModel",
          "state": {
            "_view_name": "LayoutView",
            "grid_template_rows": null,
            "right": null,
            "justify_content": null,
            "_view_module": "@jupyter-widgets/base",
            "overflow": null,
            "_model_module_version": "1.2.0",
            "_view_count": null,
            "flex_flow": null,
            "width": null,
            "min_width": null,
            "border": null,
            "align_items": null,
            "bottom": null,
            "_model_module": "@jupyter-widgets/base",
            "top": null,
            "grid_column": null,
            "overflow_y": null,
            "overflow_x": null,
            "grid_auto_flow": null,
            "grid_area": null,
            "grid_template_columns": null,
            "flex": null,
            "_model_name": "LayoutModel",
            "justify_items": null,
            "grid_row": null,
            "max_height": null,
            "align_content": null,
            "visibility": null,
            "align_self": null,
            "height": null,
            "min_height": null,
            "padding": null,
            "grid_auto_rows": null,
            "grid_gap": null,
            "max_width": null,
            "order": null,
            "_view_module_version": "1.2.0",
            "grid_template_areas": null,
            "object_position": null,
            "object_fit": null,
            "grid_auto_columns": null,
            "margin": null,
            "display": null,
            "left": null
          }
        },
        "2bc0f752a5ea4805a365f07e17fe2e4e": {
          "model_module": "@jupyter-widgets/controls",
          "model_name": "FloatProgressModel",
          "state": {
            "_view_name": "ProgressView",
            "style": "IPY_MODEL_b5bb9e8bb6a54963bb6c369b9363fb23",
            "_dom_classes": [],
            "description": "",
            "_model_name": "FloatProgressModel",
            "bar_style": "info",
            "max": 1,
            "_view_module": "@jupyter-widgets/controls",
            "_model_module_version": "1.5.0",
            "value": 1,
            "_view_count": null,
            "_view_module_version": "1.5.0",
            "orientation": "horizontal",
            "min": 0,
            "description_tooltip": null,
            "_model_module": "@jupyter-widgets/controls",
            "layout": "IPY_MODEL_509cc58c7b064958b5d62d37f203eb12"
          }
        },
        "986d125b28834e60a1f06784f4c5c710": {
          "model_module": "@jupyter-widgets/controls",
          "model_name": "HTMLModel",
          "state": {
            "_view_name": "HTMLView",
            "style": "IPY_MODEL_ce4c9368a14444f3912e046d54fb15e9",
            "_dom_classes": [],
            "description": "",
            "_model_name": "HTMLModel",
            "placeholder": "​",
            "_view_module": "@jupyter-widgets/controls",
            "_model_module_version": "1.5.0",
            "value": " 188416/? [00:20&lt;00:00, 240024.04it/s]",
            "_view_count": null,
            "_view_module_version": "1.5.0",
            "description_tooltip": null,
            "_model_module": "@jupyter-widgets/controls",
            "layout": "IPY_MODEL_b4bde1ade4b54a14914b0d1e5139517b"
          }
        },
        "b5bb9e8bb6a54963bb6c369b9363fb23": {
          "model_module": "@jupyter-widgets/controls",
          "model_name": "ProgressStyleModel",
          "state": {
            "_view_name": "StyleView",
            "_model_name": "ProgressStyleModel",
            "description_width": "initial",
            "_view_module": "@jupyter-widgets/base",
            "_model_module_version": "1.5.0",
            "_view_count": null,
            "_view_module_version": "1.2.0",
            "bar_color": null,
            "_model_module": "@jupyter-widgets/controls"
          }
        },
        "509cc58c7b064958b5d62d37f203eb12": {
          "model_module": "@jupyter-widgets/base",
          "model_name": "LayoutModel",
          "state": {
            "_view_name": "LayoutView",
            "grid_template_rows": null,
            "right": null,
            "justify_content": null,
            "_view_module": "@jupyter-widgets/base",
            "overflow": null,
            "_model_module_version": "1.2.0",
            "_view_count": null,
            "flex_flow": null,
            "width": null,
            "min_width": null,
            "border": null,
            "align_items": null,
            "bottom": null,
            "_model_module": "@jupyter-widgets/base",
            "top": null,
            "grid_column": null,
            "overflow_y": null,
            "overflow_x": null,
            "grid_auto_flow": null,
            "grid_area": null,
            "grid_template_columns": null,
            "flex": null,
            "_model_name": "LayoutModel",
            "justify_items": null,
            "grid_row": null,
            "max_height": null,
            "align_content": null,
            "visibility": null,
            "align_self": null,
            "height": null,
            "min_height": null,
            "padding": null,
            "grid_auto_rows": null,
            "grid_gap": null,
            "max_width": null,
            "order": null,
            "_view_module_version": "1.2.0",
            "grid_template_areas": null,
            "object_position": null,
            "object_fit": null,
            "grid_auto_columns": null,
            "margin": null,
            "display": null,
            "left": null
          }
        },
        "ce4c9368a14444f3912e046d54fb15e9": {
          "model_module": "@jupyter-widgets/controls",
          "model_name": "DescriptionStyleModel",
          "state": {
            "_view_name": "StyleView",
            "_model_name": "DescriptionStyleModel",
            "description_width": "",
            "_view_module": "@jupyter-widgets/base",
            "_model_module_version": "1.5.0",
            "_view_count": null,
            "_view_module_version": "1.2.0",
            "_model_module": "@jupyter-widgets/controls"
          }
        },
        "b4bde1ade4b54a14914b0d1e5139517b": {
          "model_module": "@jupyter-widgets/base",
          "model_name": "LayoutModel",
          "state": {
            "_view_name": "LayoutView",
            "grid_template_rows": null,
            "right": null,
            "justify_content": null,
            "_view_module": "@jupyter-widgets/base",
            "overflow": null,
            "_model_module_version": "1.2.0",
            "_view_count": null,
            "flex_flow": null,
            "width": null,
            "min_width": null,
            "border": null,
            "align_items": null,
            "bottom": null,
            "_model_module": "@jupyter-widgets/base",
            "top": null,
            "grid_column": null,
            "overflow_y": null,
            "overflow_x": null,
            "grid_auto_flow": null,
            "grid_area": null,
            "grid_template_columns": null,
            "flex": null,
            "_model_name": "LayoutModel",
            "justify_items": null,
            "grid_row": null,
            "max_height": null,
            "align_content": null,
            "visibility": null,
            "align_self": null,
            "height": null,
            "min_height": null,
            "padding": null,
            "grid_auto_rows": null,
            "grid_gap": null,
            "max_width": null,
            "order": null,
            "_view_module_version": "1.2.0",
            "grid_template_areas": null,
            "object_position": null,
            "object_fit": null,
            "grid_auto_columns": null,
            "margin": null,
            "display": null,
            "left": null
          }
        }
      }
    }
  },
  "cells": [
    {
      "cell_type": "markdown",
      "metadata": {
        "id": "view-in-github",
        "colab_type": "text"
      },
      "source": [
        "<a href=\"https://colab.research.google.com/github/myelife/devops-essentials-sample-app/blob/master/test_project.ipynb\" target=\"_parent\"><img src=\"https://colab.research.google.com/assets/colab-badge.svg\" alt=\"Open In Colab\"/></a>"
      ]
    },
    {
      "cell_type": "markdown",
      "metadata": {
        "id": "go6OAVTO2AGS"
      },
      "source": [
        "Course project\r\n",
        "\r\n",
        "Used below article for the project\r\n",
        "\r\n",
        "https://towardsdatascience.com/deep-learning-for-aircraft-recognition-part-i-building-a-cnn-from-scratch-c7ea455dbfb5\r\n"
      ]
    },
    {
      "cell_type": "code",
      "metadata": {
        "colab": {
          "base_uri": "https://localhost:8080/"
        },
        "id": "GFzgF98s2nrG",
        "outputId": "d0e7a4cb-7d66-42db-f8a4-95c7df013472"
      },
      "source": [
        "# Install pytorch\r\n",
        "\r\n",
        "!pip install numpy matplotlib torch==1.7.0+cpu torchvision==0.8.1+cpu torchaudio==0.7.0 -f https://download.pytorch.org/whl/torch_stable.html\r\n"
      ],
      "execution_count": 1,
      "outputs": [
        {
          "output_type": "stream",
          "text": [
            "Looking in links: https://download.pytorch.org/whl/torch_stable.html\n",
            "Requirement already satisfied: numpy in /usr/local/lib/python3.6/dist-packages (1.19.4)\n",
            "Requirement already satisfied: matplotlib in /usr/local/lib/python3.6/dist-packages (3.2.2)\n",
            "Collecting torch==1.7.0+cpu\n",
            "\u001b[?25l  Downloading https://download.pytorch.org/whl/cpu/torch-1.7.0%2Bcpu-cp36-cp36m-linux_x86_64.whl (159.3MB)\n",
            "\u001b[K     |████████████████████████████████| 159.3MB 70kB/s \n",
            "\u001b[?25hCollecting torchvision==0.8.1+cpu\n",
            "\u001b[?25l  Downloading https://download.pytorch.org/whl/cpu/torchvision-0.8.1%2Bcpu-cp36-cp36m-linux_x86_64.whl (11.8MB)\n",
            "\u001b[K     |████████████████████████████████| 11.8MB 364kB/s \n",
            "\u001b[?25hCollecting torchaudio==0.7.0\n",
            "\u001b[?25l  Downloading https://files.pythonhosted.org/packages/3f/23/6b54106b3de029d3f10cf8debc302491c17630357449c900d6209665b302/torchaudio-0.7.0-cp36-cp36m-manylinux1_x86_64.whl (7.6MB)\n",
            "\u001b[K     |████████████████████████████████| 7.6MB 6.5MB/s \n",
            "\u001b[?25hRequirement already satisfied: pyparsing!=2.0.4,!=2.1.2,!=2.1.6,>=2.0.1 in /usr/local/lib/python3.6/dist-packages (from matplotlib) (2.4.7)\n",
            "Requirement already satisfied: kiwisolver>=1.0.1 in /usr/local/lib/python3.6/dist-packages (from matplotlib) (1.3.1)\n",
            "Requirement already satisfied: python-dateutil>=2.1 in /usr/local/lib/python3.6/dist-packages (from matplotlib) (2.8.1)\n",
            "Requirement already satisfied: cycler>=0.10 in /usr/local/lib/python3.6/dist-packages (from matplotlib) (0.10.0)\n",
            "Requirement already satisfied: future in /usr/local/lib/python3.6/dist-packages (from torch==1.7.0+cpu) (0.16.0)\n",
            "Requirement already satisfied: typing-extensions in /usr/local/lib/python3.6/dist-packages (from torch==1.7.0+cpu) (3.7.4.3)\n",
            "Requirement already satisfied: dataclasses in /usr/local/lib/python3.6/dist-packages (from torch==1.7.0+cpu) (0.8)\n",
            "Requirement already satisfied: pillow>=4.1.1 in /usr/local/lib/python3.6/dist-packages (from torchvision==0.8.1+cpu) (7.0.0)\n",
            "Requirement already satisfied: six>=1.5 in /usr/local/lib/python3.6/dist-packages (from python-dateutil>=2.1->matplotlib) (1.15.0)\n",
            "Installing collected packages: torch, torchvision, torchaudio\n",
            "  Found existing installation: torch 1.7.0+cu101\n",
            "    Uninstalling torch-1.7.0+cu101:\n",
            "      Successfully uninstalled torch-1.7.0+cu101\n",
            "  Found existing installation: torchvision 0.8.1+cu101\n",
            "    Uninstalling torchvision-0.8.1+cu101:\n",
            "      Successfully uninstalled torchvision-0.8.1+cu101\n",
            "Successfully installed torch-1.7.0+cpu torchaudio-0.7.0 torchvision-0.8.1+cpu\n"
          ],
          "name": "stdout"
        }
      ]
    },
    {
      "cell_type": "code",
      "metadata": {
        "id": "N7vUWPLm3IhG"
      },
      "source": [
        "import os\r\n",
        "import torch\r\n",
        "import torchvision\r\n",
        "from zipfile import ZipFile # In this project I'll use a zip file\r\n",
        "from torchvision.datasets.utils import download_url\r\n",
        "from torch.utils.data import random_split"
      ],
      "execution_count": 5,
      "outputs": []
    },
    {
      "cell_type": "code",
      "metadata": {
        "id": "uSdAGsdI3PUo"
      },
      "source": [
        "# Project name\r\n",
        "\r\n",
        "project_name='Dimi-Course Project(Aircraft)'"
      ],
      "execution_count": 6,
      "outputs": []
    },
    {
      "cell_type": "code",
      "metadata": {
        "colab": {
          "base_uri": "https://localhost:8080/",
          "height": 66,
          "referenced_widgets": [
            "d35c2d34ff5f4961b35bc61788125ec3",
            "fca02e1ddff2482794b73432ed0ede7b",
            "2bc0f752a5ea4805a365f07e17fe2e4e",
            "986d125b28834e60a1f06784f4c5c710",
            "b5bb9e8bb6a54963bb6c369b9363fb23",
            "509cc58c7b064958b5d62d37f203eb12",
            "ce4c9368a14444f3912e046d54fb15e9",
            "b4bde1ade4b54a14914b0d1e5139517b"
          ]
        },
        "id": "ztF1A9l25NO2",
        "outputId": "e6c5d172-f199-44f6-c334-3a3c24f23aa1"
      },
      "source": [
        "# Dowload the dataset\r\n",
        "dataset_url = \"http://testme1.ddns.net/testme1/jovian/test_image.zip\"\r\n",
        "download_url(dataset_url, '.')"
      ],
      "execution_count": 7,
      "outputs": [
        {
          "output_type": "stream",
          "text": [
            "Downloading http://testme1.ddns.net/testme1/jovian/test_image.zip to ./test_image.zip\n"
          ],
          "name": "stdout"
        },
        {
          "output_type": "display_data",
          "data": {
            "application/vnd.jupyter.widget-view+json": {
              "model_id": "d35c2d34ff5f4961b35bc61788125ec3",
              "version_minor": 0,
              "version_major": 2
            },
            "text/plain": [
              "HBox(children=(FloatProgress(value=1.0, bar_style='info', max=1.0), HTML(value='')))"
            ]
          },
          "metadata": {
            "tags": []
          }
        }
      ]
    },
    {
      "cell_type": "code",
      "metadata": {
        "colab": {
          "base_uri": "https://localhost:8080/"
        },
        "id": "PRKM1o5P6QW7",
        "outputId": "fde5a7f5-947e-4ccd-da55-ae73eed1e4cc"
      },
      "source": [
        "with ZipFile('./test_image.zip', 'r') as zip:\r\n",
        "  # printing all the contents of the zip file. Just for this testing!\r\n",
        "  zip.printdir()\r\n",
        "\r\n",
        "  # extract all the files\r\n",
        "  print('Extracting all the files now...')\r\n",
        "  zip.extractall()\r\n"
      ],
      "execution_count": 9,
      "outputs": [
        {
          "output_type": "stream",
          "text": [
            "File Name                                             Modified             Size\n",
            "test_image/                                    2021-01-10 00:58:10            0\n",
            "test_image/A/                                  2021-01-10 00:59:10            0\n",
            "test_image/A/0-1.jpg                           2021-01-10 00:26:52         7539\n",
            "test_image/A/0-2.jpg                           2021-01-10 00:26:56        20898\n",
            "test_image/A/0-3.jpg                           2021-01-10 00:27:00        10896\n",
            "test_image/A/0-4.jpg                           2021-01-10 00:27:02        22449\n",
            "test_image/B-2/                                2021-01-10 00:58:38            0\n",
            "test_image/B-2/2-1.jpg                         2021-01-10 00:24:30         6799\n",
            "test_image/B-2/2-2.jpg                         2021-01-10 00:24:32         5117\n",
            "test_image/B-2/2-3.jpg                         2021-01-10 00:24:34         6662\n",
            "test_image/B-2/2-4.jpg                         2021-01-10 00:24:34        11331\n",
            "test_image/F-22/                               2021-01-10 00:59:28            0\n",
            "test_image/F-22/10-1.jpg                       2021-01-10 00:25:40        32713\n",
            "test_image/F-22/10-2.jpg                       2021-01-10 00:25:42        20743\n",
            "test_image/F-22/10-3.jpg                       2021-01-10 00:25:44         8574\n",
            "test_image/F-22/10-4.jpg                       2021-01-10 00:25:46        27355\n",
            "Extracting all the files now...\n"
          ],
          "name": "stdout"
        }
      ]
    },
    {
      "cell_type": "code",
      "metadata": {
        "colab": {
          "base_uri": "https://localhost:8080/"
        },
        "id": "ikZedUo-7L5K",
        "outputId": "abf22e86-c588-459a-d73f-3160d0e1d6b4"
      },
      "source": [
        "data_dir = './test_image'\r\n",
        "\r\n",
        "# print(os.listdir(data_dir))\r\n",
        "classes = os.listdir(data_dir)\r\n",
        "print(classes)"
      ],
      "execution_count": 12,
      "outputs": [
        {
          "output_type": "stream",
          "text": [
            "['A', 'B-2', 'F-22']\n"
          ],
          "name": "stdout"
        }
      ]
    },
    {
      "cell_type": "code",
      "metadata": {
        "colab": {
          "base_uri": "https://localhost:8080/"
        },
        "id": "YwU0oqfK9JDu",
        "outputId": "13eebd34-dc00-4846-97ca-1963b9656ad3"
      },
      "source": [
        "A = os.listdir(data_dir + \"/A\")\r\n",
        "B2 = os.listdir(data_dir + \"/B-2\")\r\n",
        "F22 = os.listdir(data_dir + \"/F-22\")\r\n",
        "\r\n",
        "print(A[:2], B2[:2], F22[:2])"
      ],
      "execution_count": 27,
      "outputs": [
        {
          "output_type": "stream",
          "text": [
            "['0-2.jpg', '0-1.jpg'] ['2-3.jpg', '2-4.jpg'] ['10-2.jpg', '10-4.jpg']\n"
          ],
          "name": "stdout"
        }
      ]
    },
    {
      "cell_type": "code",
      "metadata": {
        "id": "L1rvlOWQ-b2H"
      },
      "source": [
        "# Having something like B-2 would cause an error. Failed to assigned an operator\r\n",
        "\r\n",
        "# B-2 = os.listdir(data_dir + \"/B-2\")\r\n",
        "# F-22 = os.listdir(data_dir + \"/F-22\")"
      ],
      "execution_count": 25,
      "outputs": []
    },
    {
      "cell_type": "code",
      "metadata": {
        "id": "cgmIOlBz_eID"
      },
      "source": [
        "from torchvision.datasets import ImageFolder\r\n",
        "from torchvision.transforms import ToTensor\r\n",
        "import torchvision.transforms as tt\r\n",
        "\r\n",
        "# Data transforms (normalization & data augmentation)\r\n",
        "stats = ((0.4914, 0.4822, 0.4465), (0.2023, 0.1994, 0.2010))\r\n",
        "train_tfms = tt.Compose([tt.RandomCrop(256, padding=2, padding_mode='reflect'), \r\n",
        "                         tt.RandomHorizontalFlip(), \r\n",
        "                         #tt.RandomRotate,            \r\n",
        "                         tt.ColorJitter(brightness=0.1, contrast=0.1, saturation=0.1, hue=0.1),\r\n",
        "                         tt.ToTensor(), \r\n",
        "                         tt.Normalize(*stats,inplace=True)])\r\n",
        "valid_tfms = tt.Compose([tt.ToTensor(), tt.Normalize(*stats)])"
      ],
      "execution_count": 88,
      "outputs": []
    },
    {
      "cell_type": "code",
      "metadata": {
        "colab": {
          "base_uri": "https://localhost:8080/"
        },
        "id": "XILm_XbF_h-r",
        "outputId": "c118f2c7-5e0c-47f8-a7df-8eb6298fdbc9"
      },
      "source": [
        "# Dataset\r\n",
        "\r\n",
        "dataset = ImageFolder(data_dir, transform=ToTensor())\r\n",
        "\r\n",
        "img, label = dataset[0]\r\n",
        "print(img.shape, label)\r\n",
        "img"
      ],
      "execution_count": 89,
      "outputs": [
        {
          "output_type": "stream",
          "text": [
            "torch.Size([3, 133, 155]) 0\n"
          ],
          "name": "stdout"
        },
        {
          "output_type": "execute_result",
          "data": {
            "text/plain": [
              "tensor([[[0.6431, 0.6471, 0.6667,  ..., 0.7098, 0.7137, 0.7176],\n",
              "         [0.6431, 0.6431, 0.6627,  ..., 0.7059, 0.7059, 0.7020],\n",
              "         [0.6510, 0.6471, 0.6627,  ..., 0.7098, 0.7059, 0.7020],\n",
              "         ...,\n",
              "         [0.6706, 0.6745, 0.7059,  ..., 0.7176, 0.7098, 0.7020],\n",
              "         [0.6863, 0.6824, 0.7098,  ..., 0.7216, 0.7137, 0.7059],\n",
              "         [0.6902, 0.6824, 0.6980,  ..., 0.7255, 0.7176, 0.7098]],\n",
              "\n",
              "        [[0.6471, 0.6510, 0.6627,  ..., 0.6902, 0.6941, 0.6980],\n",
              "         [0.6471, 0.6471, 0.6588,  ..., 0.6863, 0.6863, 0.6824],\n",
              "         [0.6510, 0.6431, 0.6588,  ..., 0.6902, 0.6863, 0.6824],\n",
              "         ...,\n",
              "         [0.6549, 0.6588, 0.6902,  ..., 0.6941, 0.6863, 0.6784],\n",
              "         [0.6706, 0.6667, 0.6941,  ..., 0.6980, 0.6902, 0.6824],\n",
              "         [0.6706, 0.6627, 0.6824,  ..., 0.7020, 0.6941, 0.6863]],\n",
              "\n",
              "        [[0.5137, 0.5255, 0.5412,  ..., 0.5765, 0.5804, 0.5843],\n",
              "         [0.5137, 0.5216, 0.5373,  ..., 0.5725, 0.5725, 0.5686],\n",
              "         [0.5176, 0.5216, 0.5373,  ..., 0.5765, 0.5725, 0.5686],\n",
              "         ...,\n",
              "         [0.5412, 0.5451, 0.5765,  ..., 0.5686, 0.5529, 0.5451],\n",
              "         [0.5569, 0.5529, 0.5804,  ..., 0.5725, 0.5569, 0.5490],\n",
              "         [0.5529, 0.5451, 0.5686,  ..., 0.5765, 0.5608, 0.5529]]])"
            ]
          },
          "metadata": {
            "tags": []
          },
          "execution_count": 89
        }
      ]
    },
    {
      "cell_type": "markdown",
      "metadata": {
        "id": "PH3d9e_e_4Y-"
      },
      "source": [
        "In this case it has Size([3, 133, 155])\r\n",
        "\r\n",
        "*Let's look at a sample element from the training dataset. Each element is a tuple, containing a image tensor and a label. Since the data consists of 32x32 px color images with 3 channels (RGB), each image tensor has the shape (3, 32, 32).*"
      ]
    },
    {
      "cell_type": "code",
      "metadata": {
        "colab": {
          "base_uri": "https://localhost:8080/"
        },
        "id": "7egazZSiAFD0",
        "outputId": "1b65b334-2065-4ccf-ae2c-25efcc981496"
      },
      "source": [
        "print(dataset.classes)"
      ],
      "execution_count": 76,
      "outputs": [
        {
          "output_type": "stream",
          "text": [
            "['A', 'B-2', 'F-22']\n"
          ],
          "name": "stdout"
        }
      ]
    },
    {
      "cell_type": "code",
      "metadata": {
        "colab": {
          "base_uri": "https://localhost:8080/",
          "height": 286
        },
        "id": "taLdvFhgAMxp",
        "outputId": "17ac2930-956c-4e16-e941-54af82c89f68"
      },
      "source": [
        "# Jsut checking some imgage files\r\n",
        "\r\n",
        "import matplotlib\r\n",
        "import matplotlib.pyplot as plt\r\n",
        "%matplotlib inline\r\n",
        "\r\n",
        "matplotlib.rcParams['figure.facecolor'] = '#ffffff'\r\n",
        "\r\n",
        "def show_example(img, label):\r\n",
        "    print('Label: ', dataset.classes[label], \"(\"+str(label)+\")\")\r\n",
        "    plt.imshow(img.permute(1, 2, 0))\r\n",
        "\r\n",
        "show_example(*dataset[10])"
      ],
      "execution_count": 77,
      "outputs": [
        {
          "output_type": "stream",
          "text": [
            "Label:  F-22 (2)\n"
          ],
          "name": "stdout"
        },
        {
          "output_type": "display_data",
          "data": {
            "image/png": "[encoded data removed]",
            "text/plain": [
              "<Figure size 432x288 with 1 Axes>"
            ]
          },
          "metadata": {
            "tags": []
          }
        }
      ]
    },
    {
      "cell_type": "code",
      "metadata": {
        "id": "FTurBq3qBO6i"
      },
      "source": [
        "# Docking with Jovian\r\n",
        "\r\n",
        "!pip install jovian --upgrade -q"
      ],
      "execution_count": 78,
      "outputs": []
    },
    {
      "cell_type": "code",
      "metadata": {
        "id": "qHvG6py6CVUD"
      },
      "source": [
        "# Save to my Jovian\r\n",
        "\r\n",
        "import jovian\r\n",
        "jovian.utils.colab.set_colab_file_id('1duI5PDJrk6rVCUGHDeKbEp32rCzYw9Rg')\r\n",
        "\r\n",
        "jovian.commit(project=project_name)"
      ],
      "execution_count": null,
      "outputs": []
    },
    {
      "cell_type": "markdown",
      "metadata": {
        "id": "AXfhCryaCwhJ"
      },
      "source": [
        "Training set - used to train the model i.e. compute the loss and adjust the weights of the model using gradient descent.\r\n"
      ]
    },
    {
      "cell_type": "code",
      "metadata": {
        "id": "_y71SvvQCyY0"
      },
      "source": [
        "random_seed = 3\r\n",
        "torch.manual_seed(random_seed);"
      ],
      "execution_count": 90,
      "outputs": []
    },
    {
      "cell_type": "code",
      "metadata": {
        "colab": {
          "base_uri": "https://localhost:8080/"
        },
        "id": "jKayZGJdC7ga",
        "outputId": "8fec92dc-1848-4c54-a7f4-0e42f17f28ec"
      },
      "source": [
        "# Had to change below val_size because my test files only have 12. So having 12 images for all val_ds would have \r\n",
        "# 0 train_ds. It would get num_samples=0\r\n",
        "\r\n",
        "val_size = 6\r\n",
        "train_size = len(dataset) - val_size\r\n",
        "\r\n",
        "train_ds, val_ds = random_split(dataset, [train_size, val_size])\r\n",
        "len(train_ds), len(val_ds)"
      ],
      "execution_count": 91,
      "outputs": [
        {
          "output_type": "execute_result",
          "data": {
            "text/plain": [
              "(6, 6)"
            ]
          },
          "metadata": {
            "tags": []
          },
          "execution_count": 91
        }
      ]
    },
    {
      "cell_type": "code",
      "metadata": {
        "colab": {
          "base_uri": "https://localhost:8080/"
        },
        "id": "39YgZQXTDA7Q",
        "outputId": "b49adba9-7a2e-4369-fcc8-23f67b12a2e3"
      },
      "source": [
        "jovian.log_dataset(dataset_url=dataset_url, val_size=val_size, random_seed=random_seed)"
      ],
      "execution_count": 92,
      "outputs": [
        {
          "output_type": "stream",
          "text": [
            "[jovian] Dataset logged.\u001b[0m\n"
          ],
          "name": "stdout"
        }
      ]
    },
    {
      "cell_type": "markdown",
      "metadata": {
        "id": "ZeiknHJEDE7f"
      },
      "source": [
        "We can now create data loaders for training and validation, to load the data in batches"
      ]
    },
    {
      "cell_type": "code",
      "metadata": {
        "id": "7PsG-qHFDITA"
      },
      "source": [
        "from torch.utils.data.dataloader import DataLoader\r\n",
        "\r\n",
        "batch_size=3"
      ],
      "execution_count": 93,
      "outputs": []
    },
    {
      "cell_type": "code",
      "metadata": {
        "id": "1lo0rqXEDNzz"
      },
      "source": [
        "train_dl = DataLoader(train_ds, batch_size, shuffle=True, num_workers=4, pin_memory=True)\r\n",
        "val_dl = DataLoader(val_ds, batch_size*2, num_workers=4, pin_memory=True)"
      ],
      "execution_count": 94,
      "outputs": []
    },
    {
      "cell_type": "markdown",
      "metadata": {
        "id": "e4dBzzaiEj7U"
      },
      "source": [
        "We can look at batches of images from the dataset using the make_grid method from torchvision. Each time the following code is run, we get a different bach, since the sampler shuffles the indices before creating batches."
      ]
    },
    {
      "cell_type": "code",
      "metadata": {
        "colab": {
          "base_uri": "https://localhost:8080/",
          "height": 544
        },
        "id": "PAd-R2jIEk6h",
        "outputId": "d4ac9cac-56e7-4865-ba7a-ce67fda95926"
      },
      "source": [
        "from torchvision.utils import make_grid\r\n",
        "\r\n",
        "def denormalize(images, means, stds):\r\n",
        "    means = torch.tensor(means).reshape(1, 3, 1, 1)\r\n",
        "    stds = torch.tensor(stds).reshape(1, 3, 1, 1)\r\n",
        "    return images * stds + means\r\n",
        "\r\n",
        "\r\n",
        "def show_batch_test(dl):\r\n",
        "    for images, labels in dl:\r\n",
        "        fig, ax = plt.subplots(figsize=(12, 12))\r\n",
        "        ax.set_xticks([]); ax.set_yticks([])\r\n",
        "        denorm_images = denormalize(images, *stats)\r\n",
        "        ax.imshow(make_grid(denorm_images[:10], nrow=8).permute(1, 2, 0).clamp(0,1))\r\n",
        "        break\r\n",
        "\r\n",
        "def show_batch(dl):\r\n",
        "    for images, labels in dl:\r\n",
        "        fig, ax = plt.subplots(figsize=(12, 6))\r\n",
        "        ax.set_xticks([]); ax.set_yticks([])\r\n",
        "        ax.imshow(make_grid(images, nrow=16).permute(1, 2, 0))\r\n",
        "        break\r\n",
        "\r\n",
        "# Got an error. Let me skip this function for now\r\n",
        "show_batch(train_dl) "
      ],
      "execution_count": 96,
      "outputs": [
        {
          "output_type": "error",
          "ename": "RuntimeError",
          "evalue": "ignored",
          "traceback": [
            "\u001b[0;31m---------------------------------------------------------------------------\u001b[0m",
            "\u001b[0;31mRuntimeError\u001b[0m                              Traceback (most recent call last)",
            "\u001b[0;32m<ipython-input-96-3218b7172c98>\u001b[0m in \u001b[0;36m<module>\u001b[0;34m()\u001b[0m\n\u001b[1;32m     23\u001b[0m \u001b[0;34m\u001b[0m\u001b[0m\n\u001b[1;32m     24\u001b[0m \u001b[0;31m# Got an error. Let me skip this function for now\u001b[0m\u001b[0;34m\u001b[0m\u001b[0;34m\u001b[0m\u001b[0;34m\u001b[0m\u001b[0m\n\u001b[0;32m---> 25\u001b[0;31m \u001b[0mshow_batch\u001b[0m\u001b[0;34m(\u001b[0m\u001b[0mtrain_dl\u001b[0m\u001b[0;34m)\u001b[0m\u001b[0;34m\u001b[0m\u001b[0;34m\u001b[0m\u001b[0m\n\u001b[0m",
            "\u001b[0;32m<ipython-input-96-3218b7172c98>\u001b[0m in \u001b[0;36mshow_batch\u001b[0;34m(dl)\u001b[0m\n\u001b[1;32m     16\u001b[0m \u001b[0;34m\u001b[0m\u001b[0m\n\u001b[1;32m     17\u001b[0m \u001b[0;32mdef\u001b[0m \u001b[0mshow_batch\u001b[0m\u001b[0;34m(\u001b[0m\u001b[0mdl\u001b[0m\u001b[0;34m)\u001b[0m\u001b[0;34m:\u001b[0m\u001b[0;34m\u001b[0m\u001b[0;34m\u001b[0m\u001b[0m\n\u001b[0;32m---> 18\u001b[0;31m     \u001b[0;32mfor\u001b[0m \u001b[0mimages\u001b[0m\u001b[0;34m,\u001b[0m \u001b[0mlabels\u001b[0m \u001b[0;32min\u001b[0m \u001b[0mdl\u001b[0m\u001b[0;34m:\u001b[0m\u001b[0;34m\u001b[0m\u001b[0;34m\u001b[0m\u001b[0m\n\u001b[0m\u001b[1;32m     19\u001b[0m         \u001b[0mfig\u001b[0m\u001b[0;34m,\u001b[0m \u001b[0max\u001b[0m \u001b[0;34m=\u001b[0m \u001b[0mplt\u001b[0m\u001b[0;34m.\u001b[0m\u001b[0msubplots\u001b[0m\u001b[0;34m(\u001b[0m\u001b[0mfigsize\u001b[0m\u001b[0;34m=\u001b[0m\u001b[0;34m(\u001b[0m\u001b[0;36m12\u001b[0m\u001b[0;34m,\u001b[0m \u001b[0;36m6\u001b[0m\u001b[0;34m)\u001b[0m\u001b[0;34m)\u001b[0m\u001b[0;34m\u001b[0m\u001b[0;34m\u001b[0m\u001b[0m\n\u001b[1;32m     20\u001b[0m         \u001b[0max\u001b[0m\u001b[0;34m.\u001b[0m\u001b[0mset_xticks\u001b[0m\u001b[0;34m(\u001b[0m\u001b[0;34m[\u001b[0m\u001b[0;34m]\u001b[0m\u001b[0;34m)\u001b[0m\u001b[0;34m;\u001b[0m \u001b[0max\u001b[0m\u001b[0;34m.\u001b[0m\u001b[0mset_yticks\u001b[0m\u001b[0;34m(\u001b[0m\u001b[0;34m[\u001b[0m\u001b[0;34m]\u001b[0m\u001b[0;34m)\u001b[0m\u001b[0;34m\u001b[0m\u001b[0;34m\u001b[0m\u001b[0m\n",
            "\u001b[0;32m/usr/local/lib/python3.6/dist-packages/torch/utils/data/dataloader.py\u001b[0m in \u001b[0;36m__next__\u001b[0;34m(self)\u001b[0m\n\u001b[1;32m    433\u001b[0m         \u001b[0;32mif\u001b[0m \u001b[0mself\u001b[0m\u001b[0;34m.\u001b[0m\u001b[0m_sampler_iter\u001b[0m \u001b[0;32mis\u001b[0m \u001b[0;32mNone\u001b[0m\u001b[0;34m:\u001b[0m\u001b[0;34m\u001b[0m\u001b[0;34m\u001b[0m\u001b[0m\n\u001b[1;32m    434\u001b[0m             \u001b[0mself\u001b[0m\u001b[0;34m.\u001b[0m\u001b[0m_reset\u001b[0m\u001b[0;34m(\u001b[0m\u001b[0;34m)\u001b[0m\u001b[0;34m\u001b[0m\u001b[0;34m\u001b[0m\u001b[0m\n\u001b[0;32m--> 435\u001b[0;31m         \u001b[0mdata\u001b[0m \u001b[0;34m=\u001b[0m \u001b[0mself\u001b[0m\u001b[0;34m.\u001b[0m\u001b[0m_next_data\u001b[0m\u001b[0;34m(\u001b[0m\u001b[0;34m)\u001b[0m\u001b[0;34m\u001b[0m\u001b[0;34m\u001b[0m\u001b[0m\n\u001b[0m\u001b[1;32m    436\u001b[0m         \u001b[0mself\u001b[0m\u001b[0;34m.\u001b[0m\u001b[0m_num_yielded\u001b[0m \u001b[0;34m+=\u001b[0m \u001b[0;36m1\u001b[0m\u001b[0;34m\u001b[0m\u001b[0;34m\u001b[0m\u001b[0m\n\u001b[1;32m    437\u001b[0m         \u001b[0;32mif\u001b[0m \u001b[0mself\u001b[0m\u001b[0;34m.\u001b[0m\u001b[0m_dataset_kind\u001b[0m \u001b[0;34m==\u001b[0m \u001b[0m_DatasetKind\u001b[0m\u001b[0;34m.\u001b[0m\u001b[0mIterable\u001b[0m \u001b[0;32mand\u001b[0m\u001b[0;31m \u001b[0m\u001b[0;31m\\\u001b[0m\u001b[0;34m\u001b[0m\u001b[0;34m\u001b[0m\u001b[0m\n",
            "\u001b[0;32m/usr/local/lib/python3.6/dist-packages/torch/utils/data/dataloader.py\u001b[0m in \u001b[0;36m_next_data\u001b[0;34m(self)\u001b[0m\n\u001b[1;32m   1083\u001b[0m             \u001b[0;32melse\u001b[0m\u001b[0;34m:\u001b[0m\u001b[0;34m\u001b[0m\u001b[0;34m\u001b[0m\u001b[0m\n\u001b[1;32m   1084\u001b[0m                 \u001b[0;32mdel\u001b[0m \u001b[0mself\u001b[0m\u001b[0;34m.\u001b[0m\u001b[0m_task_info\u001b[0m\u001b[0;34m[\u001b[0m\u001b[0midx\u001b[0m\u001b[0;34m]\u001b[0m\u001b[0;34m\u001b[0m\u001b[0;34m\u001b[0m\u001b[0m\n\u001b[0;32m-> 1085\u001b[0;31m                 \u001b[0;32mreturn\u001b[0m \u001b[0mself\u001b[0m\u001b[0;34m.\u001b[0m\u001b[0m_process_data\u001b[0m\u001b[0;34m(\u001b[0m\u001b[0mdata\u001b[0m\u001b[0;34m)\u001b[0m\u001b[0;34m\u001b[0m\u001b[0;34m\u001b[0m\u001b[0m\n\u001b[0m\u001b[1;32m   1086\u001b[0m \u001b[0;34m\u001b[0m\u001b[0m\n\u001b[1;32m   1087\u001b[0m     \u001b[0;32mdef\u001b[0m \u001b[0m_try_put_index\u001b[0m\u001b[0;34m(\u001b[0m\u001b[0mself\u001b[0m\u001b[0;34m)\u001b[0m\u001b[0;34m:\u001b[0m\u001b[0;34m\u001b[0m\u001b[0;34m\u001b[0m\u001b[0m\n",
            "\u001b[0;32m/usr/local/lib/python3.6/dist-packages/torch/utils/data/dataloader.py\u001b[0m in \u001b[0;36m_process_data\u001b[0;34m(self, data)\u001b[0m\n\u001b[1;32m   1109\u001b[0m         \u001b[0mself\u001b[0m\u001b[0;34m.\u001b[0m\u001b[0m_try_put_index\u001b[0m\u001b[0;34m(\u001b[0m\u001b[0;34m)\u001b[0m\u001b[0;34m\u001b[0m\u001b[0;34m\u001b[0m\u001b[0m\n\u001b[1;32m   1110\u001b[0m         \u001b[0;32mif\u001b[0m \u001b[0misinstance\u001b[0m\u001b[0;34m(\u001b[0m\u001b[0mdata\u001b[0m\u001b[0;34m,\u001b[0m \u001b[0mExceptionWrapper\u001b[0m\u001b[0;34m)\u001b[0m\u001b[0;34m:\u001b[0m\u001b[0;34m\u001b[0m\u001b[0;34m\u001b[0m\u001b[0m\n\u001b[0;32m-> 1111\u001b[0;31m             \u001b[0mdata\u001b[0m\u001b[0;34m.\u001b[0m\u001b[0mreraise\u001b[0m\u001b[0;34m(\u001b[0m\u001b[0;34m)\u001b[0m\u001b[0;34m\u001b[0m\u001b[0;34m\u001b[0m\u001b[0m\n\u001b[0m\u001b[1;32m   1112\u001b[0m         \u001b[0;32mreturn\u001b[0m \u001b[0mdata\u001b[0m\u001b[0;34m\u001b[0m\u001b[0;34m\u001b[0m\u001b[0m\n\u001b[1;32m   1113\u001b[0m \u001b[0;34m\u001b[0m\u001b[0m\n",
            "\u001b[0;32m/usr/local/lib/python3.6/dist-packages/torch/_utils.py\u001b[0m in \u001b[0;36mreraise\u001b[0;34m(self)\u001b[0m\n\u001b[1;32m    426\u001b[0m             \u001b[0;31m# have message field\u001b[0m\u001b[0;34m\u001b[0m\u001b[0;34m\u001b[0m\u001b[0;34m\u001b[0m\u001b[0m\n\u001b[1;32m    427\u001b[0m             \u001b[0;32mraise\u001b[0m \u001b[0mself\u001b[0m\u001b[0;34m.\u001b[0m\u001b[0mexc_type\u001b[0m\u001b[0;34m(\u001b[0m\u001b[0mmessage\u001b[0m\u001b[0;34m=\u001b[0m\u001b[0mmsg\u001b[0m\u001b[0;34m)\u001b[0m\u001b[0;34m\u001b[0m\u001b[0;34m\u001b[0m\u001b[0m\n\u001b[0;32m--> 428\u001b[0;31m         \u001b[0;32mraise\u001b[0m \u001b[0mself\u001b[0m\u001b[0;34m.\u001b[0m\u001b[0mexc_type\u001b[0m\u001b[0;34m(\u001b[0m\u001b[0mmsg\u001b[0m\u001b[0;34m)\u001b[0m\u001b[0;34m\u001b[0m\u001b[0;34m\u001b[0m\u001b[0m\n\u001b[0m\u001b[1;32m    429\u001b[0m \u001b[0;34m\u001b[0m\u001b[0m\n\u001b[1;32m    430\u001b[0m \u001b[0;34m\u001b[0m\u001b[0m\n",
            "\u001b[0;31mRuntimeError\u001b[0m: Caught RuntimeError in DataLoader worker process 0.\nOriginal Traceback (most recent call last):\n  File \"/usr/local/lib/python3.6/dist-packages/torch/utils/data/_utils/worker.py\", line 198, in _worker_loop\n    data = fetcher.fetch(index)\n  File \"/usr/local/lib/python3.6/dist-packages/torch/utils/data/_utils/fetch.py\", line 47, in fetch\n    return self.collate_fn(data)\n  File \"/usr/local/lib/python3.6/dist-packages/torch/utils/data/_utils/collate.py\", line 83, in default_collate\n    return [default_collate(samples) for samples in transposed]\n  File \"/usr/local/lib/python3.6/dist-packages/torch/utils/data/_utils/collate.py\", line 83, in <listcomp>\n    return [default_collate(samples) for samples in transposed]\n  File \"/usr/local/lib/python3.6/dist-packages/torch/utils/data/_utils/collate.py\", line 55, in default_collate\n    return torch.stack(batch, 0, out=out)\nRuntimeError: stack expects each tensor to be equal size, but got [3, 142, 152] at entry 0 and [3, 128, 128] at entry 1\n"
          ]
        }
      ]
    },
    {
      "cell_type": "code",
      "metadata": {
        "colab": {
          "base_uri": "https://localhost:8080/",
          "height": 103
        },
        "id": "lgaruW67FWjA",
        "outputId": "55b02551-a424-4aad-f0f9-f9bf439d83ea"
      },
      "source": [
        "jovian.commit(project=project_name, environment=None)"
      ],
      "execution_count": 61,
      "outputs": [
        {
          "output_type": "stream",
          "text": [
            "[jovian] Detected Colab notebook...\u001b[0m\n",
            "[jovian] Uploading colab notebook to Jovian...\u001b[0m\n",
            "[jovian] Attaching records (metrics, hyperparameters, dataset etc.)\u001b[0m\n",
            "[jovian] Committed successfully! https://jovian.ai/myelife/dimi-course-project-aircraft\u001b[0m\n"
          ],
          "name": "stdout"
        },
        {
          "output_type": "execute_result",
          "data": {
            "application/vnd.google.colaboratory.intrinsic+json": {
              "type": "string"
            },
            "text/plain": [
              "'https://jovian.ai/myelife/dimi-course-project-aircraft'"
            ]
          },
          "metadata": {
            "tags": []
          },
          "execution_count": 61
        }
      ]
    },
    {
      "cell_type": "markdown",
      "metadata": {
        "id": "kZy7rBC-FrSf"
      },
      "source": [
        "**Defining the Model (Convolutional Neural Network)**"
      ]
    },
    {
      "cell_type": "code",
      "metadata": {
        "id": "GqMu-rHfFvF9"
      },
      "source": [
        "def apply_kernel(image, kernel):\r\n",
        "    ri, ci = image.shape       # image dimensions\r\n",
        "    rk, ck = kernel.shape      # kernel dimensions\r\n",
        "    ro, co = ri-rk+1, ci-ck+1  # output dimensions\r\n",
        "    output = torch.zeros([ro, co])\r\n",
        "    for i in range(ro): \r\n",
        "        for j in range(co):\r\n",
        "            output[i,j] = torch.sum(image[i:i+rk,j:j+ck] * kernel)\r\n",
        "    return output"
      ],
      "execution_count": 62,
      "outputs": []
    },
    {
      "cell_type": "code",
      "metadata": {
        "colab": {
          "base_uri": "https://localhost:8080/"
        },
        "id": "g1UZPwqzFzkc",
        "outputId": "b73adbb8-61b5-416b-c56e-b1af3d134bf5"
      },
      "source": [
        "sample_image = torch.tensor([\r\n",
        "    [3, 3, 2, 1, 0], \r\n",
        "    [0, 0, 1, 3, 1], \r\n",
        "    [3, 1, 2, 2, 3], \r\n",
        "    [2, 0, 0, 2, 2], \r\n",
        "    [2, 0, 0, 0, 1]\r\n",
        "], dtype=torch.float32)\r\n",
        "\r\n",
        "sample_kernel = torch.tensor([\r\n",
        "    [0, 1, 2], \r\n",
        "    [2, 2, 0], \r\n",
        "    [0, 1, 2]\r\n",
        "], dtype=torch.float32)\r\n",
        "\r\n",
        "apply_kernel(sample_image, sample_kernel)"
      ],
      "execution_count": 63,
      "outputs": [
        {
          "output_type": "execute_result",
          "data": {
            "text/plain": [
              "tensor([[12., 12., 17.],\n",
              "        [10., 17., 19.],\n",
              "        [ 9.,  6., 14.]])"
            ]
          },
          "metadata": {
            "tags": []
          },
          "execution_count": 63
        }
      ]
    },
    {
      "cell_type": "code",
      "metadata": {
        "id": "jLZyDvY1GEve"
      },
      "source": [
        "import torch.nn as nn\r\n",
        "import torch.nn.functional as F"
      ],
      "execution_count": 64,
      "outputs": []
    },
    {
      "cell_type": "code",
      "metadata": {
        "id": "CPHbeP3kGiuV"
      },
      "source": [
        "simple_model = nn.Sequential(\r\n",
        "    nn.Conv2d(3, 8, kernel_size=3, stride=1, padding=1),\r\n",
        "    nn.MaxPool2d(2, 2)\r\n",
        ")"
      ],
      "execution_count": 65,
      "outputs": []
    },
    {
      "cell_type": "code",
      "metadata": {
        "colab": {
          "base_uri": "https://localhost:8080/",
          "height": 231
        },
        "id": "DsQSW5evG4bY",
        "outputId": "89c12e6c-e69f-4cc9-c9f9-15a0c4db53cf"
      },
      "source": [
        "for images, labels in train_dl:\r\n",
        "    print('images.shape:', images.shape)\r\n",
        "    out = simple_model(images)\r\n",
        "    print('out.shape:', out.shape)\r\n",
        "    break"
      ],
      "execution_count": 67,
      "outputs": [
        {
          "output_type": "error",
          "ename": "NameError",
          "evalue": "ignored",
          "traceback": [
            "\u001b[0;31m---------------------------------------------------------------------------\u001b[0m",
            "\u001b[0;31mNameError\u001b[0m                                 Traceback (most recent call last)",
            "\u001b[0;32m<ipython-input-67-45d1523a7304>\u001b[0m in \u001b[0;36m<module>\u001b[0;34m()\u001b[0m\n\u001b[0;32m----> 1\u001b[0;31m tfs = transforms.Compose([\n\u001b[0m\u001b[1;32m      2\u001b[0m             \u001b[0mtransforms\u001b[0m\u001b[0;34m.\u001b[0m\u001b[0mResize\u001b[0m\u001b[0;34m(\u001b[0m\u001b[0mimg_size\u001b[0m\u001b[0;34m)\u001b[0m\u001b[0;34m,\u001b[0m\u001b[0;34m\u001b[0m\u001b[0;34m\u001b[0m\u001b[0m\n\u001b[1;32m      3\u001b[0m             \u001b[0mtransforms\u001b[0m\u001b[0;34m.\u001b[0m\u001b[0mToTensor\u001b[0m\u001b[0;34m(\u001b[0m\u001b[0;34m)\u001b[0m\u001b[0;34m,\u001b[0m\u001b[0;34m\u001b[0m\u001b[0;34m\u001b[0m\u001b[0m\n\u001b[1;32m      4\u001b[0m             \u001b[0;31m# normalize,\u001b[0m\u001b[0;34m\u001b[0m\u001b[0;34m\u001b[0m\u001b[0;34m\u001b[0m\u001b[0m\n\u001b[1;32m      5\u001b[0m         ])\n",
            "\u001b[0;31mNameError\u001b[0m: name 'transforms' is not defined"
          ]
        }
      ]
    },
    {
      "cell_type": "markdown",
      "metadata": {
        "id": "6tb4GoqqHCjm"
      },
      "source": [
        "Need to troubleshoot \"stack expects each tensor to be equal size\"\r\n",
        "\r\n",
        "RuntimeError: Caught RuntimeError in DataLoader worker process 0.\r\n",
        "Original Traceback (most recent call last):\r\n",
        "  File \"/usr/local/lib/python3.6/dist-packages/torch/utils/data/_utils/worker.py\", line 198, in _worker_loop\r\n",
        "    data = fetcher.fetch(index)\r\n",
        "  File \"/usr/local/lib/python3.6/dist-packages/torch/utils/data/_utils/fetch.py\", line 47, in fetch\r\n",
        "    return self.collate_fn(data)\r\n",
        "  File \"/usr/local/lib/python3.6/dist-packages/torch/utils/data/_utils/collate.py\", line 83, in default_collate\r\n",
        "    return [default_collate(samples) for samples in transposed]\r\n",
        "  File \"/usr/local/lib/python3.6/dist-packages/torch/utils/data/_utils/collate.py\", line 83, in <listcomp>\r\n",
        "    return [default_collate(samples) for samples in transposed]\r\n",
        "  File \"/usr/local/lib/python3.6/dist-packages/torch/utils/data/_utils/collate.py\", line 55, in default_collate\r\n",
        "    return torch.stack(batch, 0, out=out)\r\n",
        "RuntimeError: stack expects each tensor to be equal size, but got [3, 271, 284] at entry 0 and [3, 128, 128] at entry 1"
      ]
    },
    {
      "cell_type": "code",
      "metadata": {
        "colab": {
          "base_uri": "https://localhost:8080/",
          "height": 120
        },
        "id": "fabs-tpBXQ-8",
        "outputId": "19da40d5-db70-44ec-a794-5fca3f76aadb"
      },
      "source": [
        "jovian.utils.colab.set_colab_file_id('1duI5PDJrk6rVCUGHDeKbEp32rCzYw9Rg')\r\n",
        "\r\n",
        "jovian.commit(project=project_name)"
      ],
      "execution_count": 100,
      "outputs": [
        {
          "output_type": "stream",
          "text": [
            "[jovian] Detected Colab notebook...\u001b[0m\n",
            "[jovian] Uploading colab notebook to Jovian...\u001b[0m\n",
            "[jovian] Capturing environment..\u001b[0m\n",
            "[jovian] Attaching records (metrics, hyperparameters, dataset etc.)\u001b[0m\n",
            "[jovian] Committed successfully! https://jovian.ai/myelife/dimi-course-project-aircraft\u001b[0m\n"
          ],
          "name": "stdout"
        },
        {
          "output_type": "execute_result",
          "data": {
            "application/vnd.google.colaboratory.intrinsic+json": {
              "type": "string"
            },
            "text/plain": [
              "'https://jovian.ai/myelife/dimi-course-project-aircraft'"
            ]
          },
          "metadata": {
            "tags": []
          },
          "execution_count": 100
        }
      ]
    }
  ]
}